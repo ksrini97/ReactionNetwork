{
 "cells": [
  {
   "cell_type": "markdown",
   "id": "16f00e8e",
   "metadata": {},
   "source": [
    "Find Candiate molecule through FP match\n"
   ]
  },
  {
   "cell_type": "code",
   "execution_count": 1,
   "id": "fe2957ad",
   "metadata": {},
   "outputs": [],
   "source": [
    "from rdkit import Chem\n",
    "from rdkit.DataStructs import FingerprintSimilarity as tanimoto\n",
    "from rdkit.Chem import Draw\n",
    "from rdkit.Chem import AllChem,MACCSkeys\n",
    "import pandas as pd\n",
    "from ast import literal_eval\n",
    "from joblib import Parallel, delayed"
   ]
  },
  {
   "cell_type": "code",
   "execution_count": 2,
   "id": "d4d76ea9",
   "metadata": {},
   "outputs": [],
   "source": [
    "def Similarity(smiles,target):\n",
    "    #smiles is a list of smiles\n",
    "    try:\n",
    "        fp=MACCSkeys.GenMACCSKeys(Chem.MolFromSmiles(smiles))\n",
    "        score=tanimoto(fp,target)\n",
    "    except:\n",
    "        score=0\n",
    "            \n",
    "    return score"
   ]
  },
  {
   "cell_type": "code",
   "execution_count": 3,
   "id": "91ddada2",
   "metadata": {},
   "outputs": [
    {
     "name": "stderr",
     "output_type": "stream",
     "text": [
      "C:\\Users\\ks\\AppData\\Local\\Temp\\ipykernel_10216\\3729939481.py:1: DtypeWarning: Columns (4) have mixed types. Specify dtype option on import or set low_memory=False.\n",
      "  df=pd.read_csv('FinalSmiles.csv',header=0)\n"
     ]
    },
    {
     "name": "stdout",
     "output_type": "stream",
     "text": [
      "1808254\n",
      "3616508\n"
     ]
    },
    {
     "data": {
      "text/plain": [
       "5424762"
      ]
     },
     "execution_count": 3,
     "metadata": {},
     "output_type": "execute_result"
    }
   ],
   "source": [
    "df=pd.read_csv('FinalSmiles.csv',header=0)\n",
    "molecules=df['reactants'].tolist()\n",
    "print(len(molecules))\n",
    "molecules.extend(df['products'].tolist())\n",
    "print(len(molecules))\n",
    "molecules.extend(df['spectators'].tolist())\n",
    "len(molecules)"
   ]
  },
  {
   "cell_type": "code",
   "execution_count": 13,
   "id": "f20c057a",
   "metadata": {},
   "outputs": [],
   "source": [
    "targetmol=Chem.MolFromSmarts('C1C2C(C(C(C(O1)O2)O)O)O')\n",
    "#targetmol=Chem.MolFromSmarts('C1=CC=C(C=C1)CCOC2=CC=CC=C2')\n",
    "Chem.SanitizeMol(targetmol)\n",
    "target=MACCSkeys.GenMACCSKeys(targetmol)"
   ]
  },
  {
   "cell_type": "code",
   "execution_count": 7,
   "id": "54c0973c",
   "metadata": {},
   "outputs": [
    {
     "name": "stdout",
     "output_type": "stream",
     "text": [
      "<rdkit.DataStructs.cDataStructs.ExplicitBitVect object at 0x000001D843DF58A0>\n"
     ]
    },
    {
     "name": "stderr",
     "output_type": "stream",
     "text": [
      "[Parallel(n_jobs=-1)]: Using backend LokyBackend with 12 concurrent workers.\n",
      "[Parallel(n_jobs=-1)]: Done  26 tasks      | elapsed:    1.7s\n",
      "[Parallel(n_jobs=-1)]: Done 1420 tasks      | elapsed:    2.2s\n",
      "[Parallel(n_jobs=-1)]: Done 16148 tasks      | elapsed:    8.1s\n",
      "[Parallel(n_jobs=-1)]: Done 45564 tasks      | elapsed:   15.6s\n",
      "[Parallel(n_jobs=-1)]: Done 88764 tasks      | elapsed:   26.1s\n",
      "[Parallel(n_jobs=-1)]: Done 141564 tasks      | elapsed:   39.3s\n",
      "[Parallel(n_jobs=-1)]: Done 203964 tasks      | elapsed:   55.5s\n",
      "[Parallel(n_jobs=-1)]: Done 275964 tasks      | elapsed:  1.2min\n",
      "[Parallel(n_jobs=-1)]: Done 357564 tasks      | elapsed:  1.6min\n",
      "[Parallel(n_jobs=-1)]: Done 448764 tasks      | elapsed:  2.0min\n",
      "[Parallel(n_jobs=-1)]: Done 549564 tasks      | elapsed:  2.5min\n",
      "[Parallel(n_jobs=-1)]: Done 659964 tasks      | elapsed:  3.0min\n",
      "[Parallel(n_jobs=-1)]: Done 779964 tasks      | elapsed:  3.6min\n",
      "[Parallel(n_jobs=-1)]: Done 909564 tasks      | elapsed:  4.3min\n",
      "[Parallel(n_jobs=-1)]: Done 1048764 tasks      | elapsed:  5.0min\n",
      "[Parallel(n_jobs=-1)]: Done 1197564 tasks      | elapsed:  5.7min\n",
      "[Parallel(n_jobs=-1)]: Done 1355964 tasks      | elapsed:  6.6min\n",
      "[Parallel(n_jobs=-1)]: Done 1523964 tasks      | elapsed:  7.4min\n",
      "[Parallel(n_jobs=-1)]: Done 1701564 tasks      | elapsed:  8.4min\n",
      "[Parallel(n_jobs=-1)]: Done 1888764 tasks      | elapsed:  9.2min\n",
      "[Parallel(n_jobs=-1)]: Done 2085564 tasks      | elapsed:  9.8min\n",
      "[Parallel(n_jobs=-1)]: Done 2291964 tasks      | elapsed: 10.5min\n",
      "[Parallel(n_jobs=-1)]: Done 2507964 tasks      | elapsed: 11.3min\n",
      "[Parallel(n_jobs=-1)]: Done 2733564 tasks      | elapsed: 12.1min\n",
      "[Parallel(n_jobs=-1)]: Done 2968764 tasks      | elapsed: 12.9min\n",
      "[Parallel(n_jobs=-1)]: Done 3213564 tasks      | elapsed: 13.9min\n",
      "[Parallel(n_jobs=-1)]: Done 3467964 tasks      | elapsed: 14.8min\n",
      "[Parallel(n_jobs=-1)]: Done 4057980 tasks      | elapsed: 15.8min\n",
      "[Parallel(n_jobs=-1)]: Done 5152380 tasks      | elapsed: 17.1min\n",
      "[Parallel(n_jobs=-1)]: Done 5424762 out of 5424762 | elapsed: 17.4min finished\n"
     ]
    }
   ],
   "source": [
    "\n",
    "print(target)\n",
    "score=Parallel(n_jobs=-1,verbose=1)(delayed(Similarity)(smiles,target) for smiles in molecules)\n",
    "pd.DataFrame({'Molecules':molecules,'Similarity':score}).to_csv('BioPC2_cresol_MACCS_Similarity.csv')"
   ]
  },
  {
   "cell_type": "code",
   "execution_count": 19,
   "id": "8aaec138",
   "metadata": {},
   "outputs": [],
   "source": [
    "pd.DataFrame({'Molecules':molecules,'Similarity':score}).sort_values(by='Similarity', ascending=False).to_csv('BioPC1_MACCS_Similarity.csv')"
   ]
  },
  {
   "cell_type": "code",
   "execution_count": 10,
   "id": "ab8ee108",
   "metadata": {},
   "outputs": [],
   "source": [
    "#DO THIS AFTER SUBSTRUCT SIMILARITY\n",
    "\n",
    "df=pd.read_csv('Biomass/PC SubHits/BioPC5_Substruct_Similarity_new.csv',header=0)\n",
    "mols=df['Molecules'].tolist()\n",
    "substruct=df['Similarity'].tolist()\n"
   ]
  },
  {
   "cell_type": "code",
   "execution_count": 11,
   "id": "cf165eee",
   "metadata": {},
   "outputs": [],
   "source": [
    "matchmol=[]\n",
    "for i,m in enumerate(mols):\n",
    "    if substruct[i]>=1:\n",
    "        matchmol.append(m)\n",
    "    else:\n",
    "        continue"
   ]
  },
  {
   "cell_type": "code",
   "execution_count": 14,
   "id": "e913953a",
   "metadata": {},
   "outputs": [
    {
     "name": "stderr",
     "output_type": "stream",
     "text": [
      "[Parallel(n_jobs=-1)]: Using backend LokyBackend with 12 concurrent workers.\n",
      "[Parallel(n_jobs=-1)]: Done  29 tasks      | elapsed:    0.0s\n",
      "[Parallel(n_jobs=-1)]: Done 3560 tasks      | elapsed:    1.2s\n",
      "[Parallel(n_jobs=-1)]: Done 19560 tasks      | elapsed:    6.2s\n",
      "[Parallel(n_jobs=-1)]: Done 41960 tasks      | elapsed:   13.2s\n",
      "[Parallel(n_jobs=-1)]: Done 70760 tasks      | elapsed:   22.0s\n",
      "[Parallel(n_jobs=-1)]: Done 105960 tasks      | elapsed:   32.8s\n",
      "[Parallel(n_jobs=-1)]: Done 147560 tasks      | elapsed:   45.2s\n",
      "[Parallel(n_jobs=-1)]: Done 195560 tasks      | elapsed:  1.0min\n",
      "[Parallel(n_jobs=-1)]: Done 249960 tasks      | elapsed:  1.3min\n",
      "[Parallel(n_jobs=-1)]: Done 310760 tasks      | elapsed:  1.6min\n",
      "[Parallel(n_jobs=-1)]: Done 377960 tasks      | elapsed:  2.0min\n",
      "[Parallel(n_jobs=-1)]: Done 451560 tasks      | elapsed:  2.4min\n",
      "[Parallel(n_jobs=-1)]: Done 531560 tasks      | elapsed:  2.9min\n",
      "[Parallel(n_jobs=-1)]: Done 617960 tasks      | elapsed:  3.3min\n",
      "[Parallel(n_jobs=-1)]: Done 687480 tasks      | elapsed:  3.8min\n",
      "[Parallel(n_jobs=-1)]: Done 761880 tasks      | elapsed:  4.2min\n",
      "[Parallel(n_jobs=-1)]: Done 841080 tasks      | elapsed:  4.7min\n",
      "[Parallel(n_jobs=-1)]: Done 925080 tasks      | elapsed:  5.3min\n",
      "[Parallel(n_jobs=-1)]: Done 1013880 tasks      | elapsed:  5.8min\n",
      "[Parallel(n_jobs=-1)]: Done 1117496 tasks      | elapsed:  6.5min\n",
      "[Parallel(n_jobs=-1)]: Done 1248696 tasks      | elapsed:  7.4min\n",
      "[Parallel(n_jobs=-1)]: Done 1386296 tasks      | elapsed:  8.2min\n",
      "[Parallel(n_jobs=-1)]: Done 1530296 tasks      | elapsed:  9.2min\n",
      "[Parallel(n_jobs=-1)]: Done 1680696 tasks      | elapsed: 10.1min\n",
      "[Parallel(n_jobs=-1)]: Done 1837496 tasks      | elapsed: 10.6min\n",
      "[Parallel(n_jobs=-1)]: Done 2000696 tasks      | elapsed: 11.2min\n",
      "[Parallel(n_jobs=-1)]: Done 2170296 tasks      | elapsed: 11.9min\n",
      "[Parallel(n_jobs=-1)]: Done 2346296 tasks      | elapsed: 12.5min\n",
      "[Parallel(n_jobs=-1)]: Done 2528696 tasks      | elapsed: 13.2min\n",
      "[Parallel(n_jobs=-1)]: Done 2717496 tasks      | elapsed: 13.9min\n",
      "[Parallel(n_jobs=-1)]: Done 2912696 tasks      | elapsed: 14.7min\n",
      "[Parallel(n_jobs=-1)]: Done 3114296 tasks      | elapsed: 15.6min\n",
      "[Parallel(n_jobs=-1)]: Done 3322296 tasks      | elapsed: 16.4min\n",
      "[Parallel(n_jobs=-1)]: Done 3527365 out of 3527365 | elapsed: 17.3min finished\n"
     ]
    }
   ],
   "source": [
    "score=Parallel(n_jobs=-1,verbose=1)(delayed(Similarity)(smiles,target) for smiles in matchmol) \n",
    "pd.DataFrame({'Molecules':matchmol,'Similarity':score}).sort_values(by='Similarity', ascending=False).to_csv('Biomass/PC SubHits/BioPC5SubFP_Similarity_LG.csv')\n"
   ]
  },
  {
   "cell_type": "code",
   "execution_count": 21,
   "id": "a7ff4b43",
   "metadata": {},
   "outputs": [
    {
     "data": {
      "text/plain": [
       "1210299    [CH:19]1[C:18]2[C:12]3[CH:11]=[CH:10][CH:9]=[C...\n",
       "1210298    [O:16]1[CH:20]=[CH:19][C:18]2[CH:21]=[C:2]3[C:...\n",
       "1214369    [C:29]([O:3][C@@H:2]1[CH:4]=[CH:5][C@H:6]2[CH2...\n",
       "1163639    [CH3:17][C:13]1[O:12][C:11](=[O:18])[CH:10]([C...\n",
       "1665023    [O:17]1[CH:21]=[CH:20][CH:19]=[C:18]1[C:22]([O...\n",
       "1102414    [C:35]([O:12][C@@H:13]1[C@@H:14]([O:15][CH2:16...\n",
       "1514832    [O:25]=[C:24]1[C@H:10]([O:9][C:7](=[O:8])[C:4]...\n",
       "1319155    [OH:18][CH:17]1[C:15]2[CH:14]=[CH:9][CH:8]=[CH...\n",
       "1516371    [O:25]=[C:24]1[C@H:10]([O:9][C:7](=[O:8])[C:4]...\n",
       "1463576    [O:25]=[C:24]1[C@H:10]([O:9][C:7](=[O:8])[C:4]...\n",
       "Name: Molecules, dtype: object"
      ]
     },
     "execution_count": 21,
     "metadata": {},
     "output_type": "execute_result"
    }
   ],
   "source": [
    "similar_df=pd.DataFrame({'Molecules':matchmol,'Similarity':score})\n",
    "sorted_df=similar_df.sort_values(by='Similarity', ascending=False)\n",
    "print(sorted_df['Molecule'])"
   ]
  },
  {
   "cell_type": "code",
   "execution_count": null,
   "id": "37a7041e",
   "metadata": {},
   "outputs": [],
   "source": []
  }
 ],
 "metadata": {
  "kernelspec": {
   "display_name": "Python 3 (ipykernel)",
   "language": "python",
   "name": "python3"
  },
  "language_info": {
   "codemirror_mode": {
    "name": "ipython",
    "version": 3
   },
   "file_extension": ".py",
   "mimetype": "text/x-python",
   "name": "python",
   "nbconvert_exporter": "python",
   "pygments_lexer": "ipython3",
   "version": "3.10.5"
  }
 },
 "nbformat": 4,
 "nbformat_minor": 5
}
