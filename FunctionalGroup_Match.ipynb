{
 "cells": [
  {
   "cell_type": "markdown",
   "id": "16f00e8e",
   "metadata": {},
   "source": [
    "Find Candiate molecule through FP match\n"
   ]
  },
  {
   "cell_type": "code",
   "execution_count": null,
   "id": "fe2957ad",
   "metadata": {},
   "outputs": [],
   "source": [
    "from rdkit import Chem\n",
    "from rdkit.DataStructs import FingerprintSimilarity as tanimoto\n",
    "from rdkit.Chem import Draw\n",
    "from rdkit.Chem import AllChem,MACCSkeys\n",
    "import pandas as pd\n",
    "from ast import literal_eval\n",
    "from joblib import Parallel, delayed"
   ]
  },
  {
   "cell_type": "code",
   "execution_count": null,
   "id": "6fd263a3",
   "metadata": {},
   "outputs": [],
   "source": [
    "class SimilarityFP():\n",
    "    def __init__(self):\n",
    "        pass\n",
    "    def Similarity(self,smiles,target):\n",
    "        #smiles: SMILES of the molecule\n",
    "        # target : MACCS key of target moelcule\n",
    "        try:\n",
    "            fp=MACCSkeys.GenMACCSKeys(Chem.MolFromSmiles(smiles))\n",
    "            score=tanimoto(fp,target)\n",
    "        except:\n",
    "            score=0\n",
    "\n",
    "        return score\n",
    "    def FP_score(self, molecules,target,path):\n",
    "        '''\n",
    "        molecules : List of molecules to compare against\n",
    "        target : target molecule to compared with (SMARTS/SMILES string)\n",
    "        path : Path (including filename) to store list of similar molecules\n",
    "        '''\n",
    "        targetmol=Chem.MolFromSmarts(target)\n",
    "        Chem.SanitizeMol(targetmol)\n",
    "        target=MACCSkeys.GenMACCSKeys(targetmol)\n",
    "        score=Parallel(n_jobs=-1,verbose=1)(delayed(self.Similarity)(smiles,target) for smiles in molecules)\n",
    "        pd.DataFrame({'Molecules':molecules,'Similarity':score}).sort_values(by='Similarity', ascending=False).to_csv(path)\n",
    "        "
   ]
  },
  {
   "cell_type": "code",
   "execution_count": null,
   "id": "91ddada2",
   "metadata": {},
   "outputs": [],
   "source": [
    "# Example implementation\n",
    "\n",
    "df=pd.read_csv('FinalSmiles.csv',header=0, low_memory = False) # File containing SMILES of molecules\n",
    "molecules=df['reactants'].tolist()\n",
    "target = 'CCCO'"
   ]
  },
  {
   "cell_type": "code",
   "execution_count": null,
   "id": "f20c057a",
   "metadata": {},
   "outputs": [],
   "source": [
    "obj = SimilarityFP()\n",
    "obj.FP_score(molecules,target,r'C:\\Users\\ks\\Desktop\\ReactionNetwork\\FP_example.csv')"
   ]
  },
  {
   "cell_type": "code",
   "execution_count": null,
   "id": "37a7041e",
   "metadata": {},
   "outputs": [],
   "source": []
  }
 ],
 "metadata": {
  "kernelspec": {
   "display_name": "Python 3 (ipykernel)",
   "language": "python",
   "name": "python3"
  },
  "language_info": {
   "codemirror_mode": {
    "name": "ipython",
    "version": 3
   },
   "file_extension": ".py",
   "mimetype": "text/x-python",
   "name": "python",
   "nbconvert_exporter": "python",
   "pygments_lexer": "ipython3",
   "version": "3.9.12"
  }
 },
 "nbformat": 4,
 "nbformat_minor": 5
}
