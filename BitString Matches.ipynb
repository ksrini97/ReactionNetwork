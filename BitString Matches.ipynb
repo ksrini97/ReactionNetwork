{
 "cells": [
  {
   "cell_type": "markdown",
   "id": "e01e0845",
   "metadata": {},
   "source": [
    "Check for matches for product molecule in generated reaction network"
   ]
  },
  {
   "cell_type": "code",
   "execution_count": 1,
   "id": "17d89f4b",
   "metadata": {},
   "outputs": [],
   "source": [
    "from rdkit import Chem\n",
    "from rdkit.DataStructs import FingerprintSimilarity as tanimoto\n",
    "from rdkit.DataStructs.cDataStructs import ExplicitBitVect\n",
    "from rdkit.Chem import Draw\n",
    "from rdkit.Chem import AllChem,MACCSkeys\n",
    "import pandas as pd\n",
    "from ast import literal_eval\n",
    "from joblib import Parallel, delayed"
   ]
  },
  {
   "cell_type": "code",
   "execution_count": 25,
   "id": "c5b56c6c",
   "metadata": {},
   "outputs": [],
   "source": [
    "class Product_Match():\n",
    "    def __init__(self,filepath):\n",
    "        #filepath : Path to file generated from Network_AllCombo\n",
    "        self.df=pd.read_csv(filepath,header=0,low_memory=False)\n",
    "        self.keys = self.df.keys()[1:]\n",
    "    def GenMACCS(self,smiles):\n",
    "        #smiles : list of smiles\n",
    "        fp=[]\n",
    "        for x in smiles:\n",
    "            if not(x.isdigit()): # Repeat molecules are stored as digits\n",
    "                fp.append(MACCSkeys.GenMACCSKeys(Chem.MolFromSmiles(x)))\n",
    "            else:\n",
    "                fp.append(ExplicitBitVect(167))\n",
    "    \n",
    "        return fp\n",
    "    \n",
    "    def Similarity(self,smiles,target):\n",
    "        # smiles : SMILES of the molecule (string)\n",
    "        # target : SMARTS pattern of query to be matched against (list)\n",
    "        score=[]\n",
    "        for x in smiles:\n",
    "            s=0\n",
    "            if not (x.isdigit()):\n",
    "                try:\n",
    "                    mol=Chem.MolFromSmiles(x)\n",
    "                    for t in target:\n",
    "                        if  mol.HasSubstructMatch(t):\n",
    "                            s+=1\n",
    "                        else:\n",
    "                            s+=0\n",
    "                    score.append(s)\n",
    "                except:\n",
    "                    score.append(-1)\n",
    "        return score\n",
    "    \n",
    "    def MatchFP(self,target,savepath):\n",
    "        # target : SMILES pattern to be recogonized in products\n",
    "        similarity=pd.DataFrame(columns=['Smiles','Gen','Id','Similarity'])\n",
    "        targetmol = Chem.MolFromSmarts(target)\n",
    "        if targetmol is None:\n",
    "            print('Error parsing SMILES')\n",
    "            pass\n",
    "        else:\n",
    "            targetmol.UpdatePropertyCache()\n",
    "            Chem.GetSymmSSSR(targetmol)\n",
    "            targetfp=MACCSkeys.GenMACCSKeys(targetmol)\n",
    "        for key in  self.keys:\n",
    "            smileslist=self.df[key]\n",
    "            smileslist=smileslist.dropna()\n",
    "            newlist=[]\n",
    "            for s in smileslist:\n",
    "                newlist.append(literal_eval(s))\n",
    "            FingerPrints=Parallel(n_jobs=-1,verbose=1)(delayed(self.GenMACCS)(smiles) for smiles in newlist) #FingerPrints is a list of list of Fingerprints\n",
    "            for i,fp in enumerate(FingerPrints):\n",
    "                score=[tanimoto(x,targetfp) for x in fp]\n",
    "                if any(val>=0.2 for val in score):\n",
    "                    similarity=pd.concat([similarity,pd.DataFrame({'Smiles':str(newlist[i]),'Gen': key,'Id':i,'Similarity':score})],ignore_index=True)\n",
    "        similarity.to_csv(savepath)\n",
    "        \n",
    "        \n",
    "    def MatchSub(self,target,cutoff,savepath):\n",
    "        # target : list of SMARTS pattern to be recogonized in products\n",
    "        similarity=pd.DataFrame(columns=['Smiles','Gen','Id','Similarity'])\n",
    "        targetmol = [Chem.MolFromSmarts(t) for t in target]\n",
    "        if targetmol is None:\n",
    "            print('Error parsing SMILES')\n",
    "            pass\n",
    "        for key in  self.keys:\n",
    "            smileslist=self.df[key]\n",
    "            smileslist=smileslist.dropna()\n",
    "            newlist=[]\n",
    "            for s in smileslist:\n",
    "                newlist.append(literal_eval(s))\n",
    "            score=Parallel(n_jobs=-1,verbose=1)(delayed(self.Similarity)(smiles,targetmol) for smiles in newlist) #FingerPrints is a list of list of Fingerprints\n",
    "            for i,fp in enumerate(score):\n",
    "                if any(val>=cutoff for val in fp):\n",
    "                    similarity_sub=pd.concat([similarity_sub,pd.DataFrame({'Smiles':str(newlist[i]),'Gen': key,'Id':i,'Similarity':score})],ignore_index=True)\n",
    "        similarity.to_csv(savepath)\n",
    "    "
   ]
  },
  {
   "cell_type": "code",
   "execution_count": 28,
   "id": "5314c8a2",
   "metadata": {},
   "outputs": [
    {
     "name": "stderr",
     "output_type": "stream",
     "text": [
      "[Parallel(n_jobs=-1)]: Using backend LokyBackend with 12 concurrent workers.\n",
      "[Parallel(n_jobs=-1)]: Done  26 tasks      | elapsed:    3.7s\n"
     ]
    },
    {
     "ename": "KeyboardInterrupt",
     "evalue": "",
     "output_type": "error",
     "traceback": [
      "\u001b[1;31m---------------------------------------------------------------------------\u001b[0m",
      "\u001b[1;31mKeyboardInterrupt\u001b[0m                         Traceback (most recent call last)",
      "Cell \u001b[1;32mIn[28], line 7\u001b[0m\n\u001b[0;32m      4\u001b[0m \u001b[38;5;66;03m#target = 'OCc1ccco1'\u001b[39;00m\n\u001b[0;32m      5\u001b[0m \u001b[38;5;66;03m#obj.MatchFP(target,r'C:\\Users\\ks\\Desktop\\ReactionNetwork\\Bit_example.csv')\u001b[39;00m\n\u001b[0;32m      6\u001b[0m targetsmarts \u001b[38;5;241m=\u001b[39m [\u001b[38;5;124m'\u001b[39m\u001b[38;5;124m[c]\u001b[39m\u001b[38;5;124m'\u001b[39m,\u001b[38;5;124m'\u001b[39m\u001b[38;5;124m[$([CX3]=[CX3])]\u001b[39m\u001b[38;5;124m'\u001b[39m]\n\u001b[1;32m----> 7\u001b[0m \u001b[43mobj\u001b[49m\u001b[38;5;241;43m.\u001b[39;49m\u001b[43mMatchSub\u001b[49m\u001b[43m(\u001b[49m\u001b[43mtargetsmarts\u001b[49m\u001b[43m,\u001b[49m\u001b[38;5;241;43m2\u001b[39;49m\u001b[43m,\u001b[49m\u001b[38;5;124;43mr\u001b[39;49m\u001b[38;5;124;43m'\u001b[39;49m\u001b[38;5;124;43mC:\u001b[39;49m\u001b[38;5;124;43m\\\u001b[39;49m\u001b[38;5;124;43mUsers\u001b[39;49m\u001b[38;5;124;43m\\\u001b[39;49m\u001b[38;5;124;43mks\u001b[39;49m\u001b[38;5;124;43m\\\u001b[39;49m\u001b[38;5;124;43mDesktop\u001b[39;49m\u001b[38;5;124;43m\\\u001b[39;49m\u001b[38;5;124;43mReactionNetwork\u001b[39;49m\u001b[38;5;124;43m\\\u001b[39;49m\u001b[38;5;124;43mBitSub_example.csv\u001b[39;49m\u001b[38;5;124;43m'\u001b[39;49m\u001b[43m)\u001b[49m\n",
      "Cell \u001b[1;32mIn[25], line 74\u001b[0m, in \u001b[0;36mProduct_Match.MatchSub\u001b[1;34m(self, target, cutoff, savepath)\u001b[0m\n\u001b[0;32m     72\u001b[0m \u001b[38;5;28;01mfor\u001b[39;00m s \u001b[38;5;129;01min\u001b[39;00m smileslist:\n\u001b[0;32m     73\u001b[0m     newlist\u001b[38;5;241m.\u001b[39mappend(literal_eval(s))\n\u001b[1;32m---> 74\u001b[0m score\u001b[38;5;241m=\u001b[39m\u001b[43mParallel\u001b[49m\u001b[43m(\u001b[49m\u001b[43mn_jobs\u001b[49m\u001b[38;5;241;43m=\u001b[39;49m\u001b[38;5;241;43m-\u001b[39;49m\u001b[38;5;241;43m1\u001b[39;49m\u001b[43m,\u001b[49m\u001b[43mverbose\u001b[49m\u001b[38;5;241;43m=\u001b[39;49m\u001b[38;5;241;43m1\u001b[39;49m\u001b[43m)\u001b[49m\u001b[43m(\u001b[49m\u001b[43mdelayed\u001b[49m\u001b[43m(\u001b[49m\u001b[38;5;28;43mself\u001b[39;49m\u001b[38;5;241;43m.\u001b[39;49m\u001b[43mSimilarity\u001b[49m\u001b[43m)\u001b[49m\u001b[43m(\u001b[49m\u001b[43msmiles\u001b[49m\u001b[43m,\u001b[49m\u001b[43mtargetmol\u001b[49m\u001b[43m)\u001b[49m\u001b[43m \u001b[49m\u001b[38;5;28;43;01mfor\u001b[39;49;00m\u001b[43m \u001b[49m\u001b[43msmiles\u001b[49m\u001b[43m \u001b[49m\u001b[38;5;129;43;01min\u001b[39;49;00m\u001b[43m \u001b[49m\u001b[43mnewlist\u001b[49m\u001b[43m)\u001b[49m \u001b[38;5;66;03m#FingerPrints is a list of list of Fingerprints\u001b[39;00m\n\u001b[0;32m     75\u001b[0m \u001b[38;5;28;01mfor\u001b[39;00m i,fp \u001b[38;5;129;01min\u001b[39;00m \u001b[38;5;28menumerate\u001b[39m(score):\n\u001b[0;32m     76\u001b[0m     \u001b[38;5;28;01mif\u001b[39;00m \u001b[38;5;28many\u001b[39m(val\u001b[38;5;241m>\u001b[39m\u001b[38;5;241m=\u001b[39mcutoff \u001b[38;5;28;01mfor\u001b[39;00m val \u001b[38;5;129;01min\u001b[39;00m fp):\n",
      "File \u001b[1;32m~\\anaconda3\\envs\\ANN-env\\lib\\site-packages\\joblib\\parallel.py:1061\u001b[0m, in \u001b[0;36mParallel.__call__\u001b[1;34m(self, iterable)\u001b[0m\n\u001b[0;32m   1058\u001b[0m     \u001b[38;5;28mself\u001b[39m\u001b[38;5;241m.\u001b[39m_iterating \u001b[38;5;241m=\u001b[39m \u001b[38;5;28;01mFalse\u001b[39;00m\n\u001b[0;32m   1060\u001b[0m \u001b[38;5;28;01mwith\u001b[39;00m \u001b[38;5;28mself\u001b[39m\u001b[38;5;241m.\u001b[39m_backend\u001b[38;5;241m.\u001b[39mretrieval_context():\n\u001b[1;32m-> 1061\u001b[0m     \u001b[38;5;28;43mself\u001b[39;49m\u001b[38;5;241;43m.\u001b[39;49m\u001b[43mretrieve\u001b[49m\u001b[43m(\u001b[49m\u001b[43m)\u001b[49m\n\u001b[0;32m   1062\u001b[0m \u001b[38;5;66;03m# Make sure that we get a last message telling us we are done\u001b[39;00m\n\u001b[0;32m   1063\u001b[0m elapsed_time \u001b[38;5;241m=\u001b[39m time\u001b[38;5;241m.\u001b[39mtime() \u001b[38;5;241m-\u001b[39m \u001b[38;5;28mself\u001b[39m\u001b[38;5;241m.\u001b[39m_start_time\n",
      "File \u001b[1;32m~\\anaconda3\\envs\\ANN-env\\lib\\site-packages\\joblib\\parallel.py:938\u001b[0m, in \u001b[0;36mParallel.retrieve\u001b[1;34m(self)\u001b[0m\n\u001b[0;32m    936\u001b[0m \u001b[38;5;28;01mtry\u001b[39;00m:\n\u001b[0;32m    937\u001b[0m     \u001b[38;5;28;01mif\u001b[39;00m \u001b[38;5;28mgetattr\u001b[39m(\u001b[38;5;28mself\u001b[39m\u001b[38;5;241m.\u001b[39m_backend, \u001b[38;5;124m'\u001b[39m\u001b[38;5;124msupports_timeout\u001b[39m\u001b[38;5;124m'\u001b[39m, \u001b[38;5;28;01mFalse\u001b[39;00m):\n\u001b[1;32m--> 938\u001b[0m         \u001b[38;5;28mself\u001b[39m\u001b[38;5;241m.\u001b[39m_output\u001b[38;5;241m.\u001b[39mextend(\u001b[43mjob\u001b[49m\u001b[38;5;241;43m.\u001b[39;49m\u001b[43mget\u001b[49m\u001b[43m(\u001b[49m\u001b[43mtimeout\u001b[49m\u001b[38;5;241;43m=\u001b[39;49m\u001b[38;5;28;43mself\u001b[39;49m\u001b[38;5;241;43m.\u001b[39;49m\u001b[43mtimeout\u001b[49m\u001b[43m)\u001b[49m)\n\u001b[0;32m    939\u001b[0m     \u001b[38;5;28;01melse\u001b[39;00m:\n\u001b[0;32m    940\u001b[0m         \u001b[38;5;28mself\u001b[39m\u001b[38;5;241m.\u001b[39m_output\u001b[38;5;241m.\u001b[39mextend(job\u001b[38;5;241m.\u001b[39mget())\n",
      "File \u001b[1;32m~\\anaconda3\\envs\\ANN-env\\lib\\site-packages\\joblib\\_parallel_backends.py:542\u001b[0m, in \u001b[0;36mLokyBackend.wrap_future_result\u001b[1;34m(future, timeout)\u001b[0m\n\u001b[0;32m    539\u001b[0m \u001b[38;5;124;03m\"\"\"Wrapper for Future.result to implement the same behaviour as\u001b[39;00m\n\u001b[0;32m    540\u001b[0m \u001b[38;5;124;03mAsyncResults.get from multiprocessing.\"\"\"\u001b[39;00m\n\u001b[0;32m    541\u001b[0m \u001b[38;5;28;01mtry\u001b[39;00m:\n\u001b[1;32m--> 542\u001b[0m     \u001b[38;5;28;01mreturn\u001b[39;00m \u001b[43mfuture\u001b[49m\u001b[38;5;241;43m.\u001b[39;49m\u001b[43mresult\u001b[49m\u001b[43m(\u001b[49m\u001b[43mtimeout\u001b[49m\u001b[38;5;241;43m=\u001b[39;49m\u001b[43mtimeout\u001b[49m\u001b[43m)\u001b[49m\n\u001b[0;32m    543\u001b[0m \u001b[38;5;28;01mexcept\u001b[39;00m CfTimeoutError \u001b[38;5;28;01mas\u001b[39;00m e:\n\u001b[0;32m    544\u001b[0m     \u001b[38;5;28;01mraise\u001b[39;00m \u001b[38;5;167;01mTimeoutError\u001b[39;00m \u001b[38;5;28;01mfrom\u001b[39;00m \u001b[38;5;21;01me\u001b[39;00m\n",
      "File \u001b[1;32m~\\anaconda3\\envs\\ANN-env\\lib\\concurrent\\futures\\_base.py:441\u001b[0m, in \u001b[0;36mFuture.result\u001b[1;34m(self, timeout)\u001b[0m\n\u001b[0;32m    438\u001b[0m \u001b[38;5;28;01melif\u001b[39;00m \u001b[38;5;28mself\u001b[39m\u001b[38;5;241m.\u001b[39m_state \u001b[38;5;241m==\u001b[39m FINISHED:\n\u001b[0;32m    439\u001b[0m     \u001b[38;5;28;01mreturn\u001b[39;00m \u001b[38;5;28mself\u001b[39m\u001b[38;5;241m.\u001b[39m__get_result()\n\u001b[1;32m--> 441\u001b[0m \u001b[38;5;28;43mself\u001b[39;49m\u001b[38;5;241;43m.\u001b[39;49m\u001b[43m_condition\u001b[49m\u001b[38;5;241;43m.\u001b[39;49m\u001b[43mwait\u001b[49m\u001b[43m(\u001b[49m\u001b[43mtimeout\u001b[49m\u001b[43m)\u001b[49m\n\u001b[0;32m    443\u001b[0m \u001b[38;5;28;01mif\u001b[39;00m \u001b[38;5;28mself\u001b[39m\u001b[38;5;241m.\u001b[39m_state \u001b[38;5;129;01min\u001b[39;00m [CANCELLED, CANCELLED_AND_NOTIFIED]:\n\u001b[0;32m    444\u001b[0m     \u001b[38;5;28;01mraise\u001b[39;00m CancelledError()\n",
      "File \u001b[1;32m~\\anaconda3\\envs\\ANN-env\\lib\\threading.py:312\u001b[0m, in \u001b[0;36mCondition.wait\u001b[1;34m(self, timeout)\u001b[0m\n\u001b[0;32m    310\u001b[0m \u001b[38;5;28;01mtry\u001b[39;00m:    \u001b[38;5;66;03m# restore state no matter what (e.g., KeyboardInterrupt)\u001b[39;00m\n\u001b[0;32m    311\u001b[0m     \u001b[38;5;28;01mif\u001b[39;00m timeout \u001b[38;5;129;01mis\u001b[39;00m \u001b[38;5;28;01mNone\u001b[39;00m:\n\u001b[1;32m--> 312\u001b[0m         \u001b[43mwaiter\u001b[49m\u001b[38;5;241;43m.\u001b[39;49m\u001b[43macquire\u001b[49m\u001b[43m(\u001b[49m\u001b[43m)\u001b[49m\n\u001b[0;32m    313\u001b[0m         gotit \u001b[38;5;241m=\u001b[39m \u001b[38;5;28;01mTrue\u001b[39;00m\n\u001b[0;32m    314\u001b[0m     \u001b[38;5;28;01melse\u001b[39;00m:\n",
      "\u001b[1;31mKeyboardInterrupt\u001b[0m: "
     ]
    }
   ],
   "source": [
    "# Example use\n",
    "\n",
    "obj = Product_Match(r'Biomass/HMFRev_NoRepeat_Reduced_Nghb.csv') # File containing network generated from Network_Allcombo\n",
    "target = 'OCc1ccco1'\n",
    "obj.MatchFP(target,r'C:\\Users\\ks\\Desktop\\ReactionNetwork\\Bit_example.csv')\n",
    "targetsmarts = ['[c]','[$([CX3]=[CX3])]']\n",
    "obj.MatchSub(targetsmarts,2,r'C:\\Users\\ks\\Desktop\\ReactionNetwork\\BitSub_example.csv')"
   ]
  },
  {
   "cell_type": "code",
   "execution_count": null,
   "id": "38de7709",
   "metadata": {},
   "outputs": [],
   "source": [
    "#SMARTS Pattern of different functional groups \n",
    "#alkane=Chem.MolFromSmarts('[CX4]')\n",
    "#alkene=Chem.MolFromSmarts('[$([CX3]=[CX3])]')\n",
    "#alkyne=Chem.MolFromSmarts('[$([CX2]#[CX2])]')\n",
    "#arene=Chem.MolFromSmarts('[c]')\n",
    "#ketone=Chem.MolFromSmarts('[#6][CX3](=[O])[#6]') \n",
    "#aldehyde=Chem.MolFromSmarts('[CX3H1](=[O])')\n",
    "#ester=Chem.MolFromSmarts('[#6][CX3](=[O])[OX2H0][#6]')\n",
    "#acid=Chem.MolFromSmarts('[#6][CX3](=[O])[OX2H1]')\n",
    "#alcohol=Chem.MolFromSmarts('[CHX4][OX2H]')\n",
    "#amine=Chem.MolFromSmarts('[NX3;H2,H1;!$(NC=O)]')\n",
    "#halide=Chem.MolFromSmarts('[CX4][F,Cl,Br,I]')\n",
    "#ether=Chem.MolFromSmarts('[OD2]([#6])[#6]')\n",
    "#nitro=Chem.MolFromSmarts('[$([NX3](=O)=O),$([NX3+](=O)[O-])][!#8]')"
   ]
  },
  {
   "cell_type": "code",
   "execution_count": null,
   "id": "2e2ba5f6",
   "metadata": {},
   "outputs": [],
   "source": []
  }
 ],
 "metadata": {
  "kernelspec": {
   "display_name": "Python 3 (ipykernel)",
   "language": "python",
   "name": "python3"
  },
  "language_info": {
   "codemirror_mode": {
    "name": "ipython",
    "version": 3
   },
   "file_extension": ".py",
   "mimetype": "text/x-python",
   "name": "python",
   "nbconvert_exporter": "python",
   "pygments_lexer": "ipython3",
   "version": "3.9.12"
  }
 },
 "nbformat": 4,
 "nbformat_minor": 5
}
