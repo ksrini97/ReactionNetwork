{
 "cells": [
  {
   "cell_type": "code",
   "execution_count": null,
   "id": "9c20d6ba",
   "metadata": {},
   "outputs": [],
   "source": [
    "from rdkit import Chem\n",
    "import pandas as pd\n",
    "from joblib import Parallel,delayed\n",
    "from rdkit.Chem import AllChem\n",
    "from rdkit import rdBase\n",
    "rdBase.DisableLog('rdApp.error')"
   ]
  },
  {
   "cell_type": "code",
   "execution_count": null,
   "id": "fb063a20",
   "metadata": {},
   "outputs": [],
   "source": [
    "def runrxn(rxnsmarts,reactants):\n",
    "    products=[]\n",
    "    try:\n",
    "        rxn=AllChem.ReactionFromSmarts(rxnsmarts)\n",
    "        AllChem.SanitizeRxn(rxn)\n",
    "    except:\n",
    "        return False\n",
    "    try:\n",
    "        ps=rxn.RunReactants(reactants)\n",
    "        for i in range(len(ps)):\n",
    "            for j in range(len(ps[i])):\n",
    "                products.append(Chem.MolToSmiles(ps[i][j]))\n",
    "        return products\n",
    "    except:\n",
    "        return False"
   ]
  },
  {
   "cell_type": "code",
   "execution_count": null,
   "id": "62d744e8",
   "metadata": {},
   "outputs": [],
   "source": [
    "def check_iso(products,all_prod):\n",
    "    new_prod=[]\n",
    "    overall_can=[]\n",
    "    red_prod=[p for p in products if (p!=[] and p!= False)]\n",
    "    for x in red_prod:\n",
    "        can_prod=[]\n",
    "        for prod in x:\n",
    "            try:\n",
    "                smiles=Chem.CanonSmiles(prod)\n",
    "                if smiles in overall_can: #Check for repetition across x's Eg, [[a,b],[a,c]]\n",
    "                    continue\n",
    "                else:\n",
    "                    overall_can.append(smiles)\n",
    "                    if smiles in all_prod: #Checks if any element is  part of previous generations\n",
    "                        can_prod.append(str(all_prod.index(smiles)))\n",
    "                    else:\n",
    "                        all_prod.append(smiles)\n",
    "                        can_prod.append(smiles)\n",
    "            except:\n",
    "                continue\n",
    "        if can_prod !=[]: # Checks for repetition of x's Eg, [[a,b],[c,d],[a,b]]\n",
    "            min_prod=list(set(can_prod)) #Checks for repetition in x eg.[[a,a],[b,c]]\n",
    "            new_prod.append(min_prod)\n",
    "        else:\n",
    "            continue\n",
    "\n",
    "    return new_prod,all_prod"
   ]
  },
  {
   "cell_type": "code",
   "execution_count": null,
   "id": "16c95a25",
   "metadata": {},
   "outputs": [],
   "source": [
    "reaction=pd.read_csv('FinalTemplate_MapRN.csv')\n",
    "reactlist=reaction['Reaction Smarts'].tolist()"
   ]
  },
  {
   "cell_type": "code",
   "execution_count": null,
   "id": "3aaf0487",
   "metadata": {},
   "outputs": [],
   "source": [
    "#reactants is a list of list of Smiles of the initial set of reactants\n",
    "reactants=(Chem.MolFromSmiles('C1CCCC=C1'),Chem.MolFromSmiles('C(O)=O'))\n",
    "all_product=['C1CCCC=C1','C(O)=O']\n",
    "prodlist = Parallel(n_jobs=-1, verbose=1)(delayed(runrxn)(r,reactants) for r in reactlist)\n",
    "f_products,all_product=check_iso(prodlist,all_product)\n",
    "dict={}\n",
    "dict['Gen111'] = f_products\n",
    "df = pd.DataFrame({key: pd.Series(value) for key, value in dict.items()})\n",
    "df.to_csv('Cyclohexene Prod/Cyclohexene_NoRepeat_MapRN_Acid.csv')"
   ]
  },
  {
   "cell_type": "code",
   "execution_count": null,
   "id": "c028c896",
   "metadata": {},
   "outputs": [],
   "source": [
    "for i in range(2,5):\n",
    "        products=[]\n",
    "        ctr=1\n",
    "        for rxns in f_products:\n",
    "            ind=0\n",
    "            for prod in rxns:\n",
    "                subst=()\n",
    "                ind=ind+1\n",
    "                if prod.isdigit():\n",
    "                    continue\n",
    "                else:\n",
    "                    prodlist = Parallel(n_jobs=-1, verbose=1)(delayed(runrxn)(r,(Chem.MolFromSmiles(prod),)) for r in reactlist)\n",
    "                    print(prod)\n",
    "                    new_prod,all_product=check_iso(prodlist,all_product)\n",
    "                    products.extend(new_prod)\n",
    "                    string='Gen'+str(i)+str(ctr)+str(ind)\n",
    "                    print(string,len(new_prod))\n",
    "                    dict[string] = new_prod\n",
    "                    df = pd.DataFrame({key: pd.Series(value) for key, value in dict.items()})\n",
    "                    df.to_csv('Cyclohexene Prod/Cyclohexene_NoRepeat_MapRN_Acid.csv')\n",
    "\n",
    "            ctr=ctr+1\n",
    "        f_products=products\n",
    "pd.DataFrame({'Cyclohexene  Products': all_product}).to_csv('Cyclohexene Prod/Cyclohexene_MapRN_Acid_AllProducts.csv')"
   ]
  },
  {
   "cell_type": "code",
   "execution_count": null,
   "id": "db331b23",
   "metadata": {},
   "outputs": [],
   "source": [
    "pd.DataFrame({'Cyclohexene  Products': all_product}).to_csv('Cyclohexene Prod/Cyclohexene_MapRN_Acid_AllProducts.csv')"
   ]
  },
  {
   "cell_type": "code",
   "execution_count": null,
   "id": "60ca2ae2",
   "metadata": {},
   "outputs": [],
   "source": []
  }
 ],
 "metadata": {
  "kernelspec": {
   "display_name": "Python 3 (ipykernel)",
   "language": "python",
   "name": "python3"
  },
  "language_info": {
   "codemirror_mode": {
    "name": "ipython",
    "version": 3
   },
   "file_extension": ".py",
   "mimetype": "text/x-python",
   "name": "python",
   "nbconvert_exporter": "python",
   "pygments_lexer": "ipython3",
   "version": "3.9.12"
  }
 },
 "nbformat": 4,
 "nbformat_minor": 5
}
