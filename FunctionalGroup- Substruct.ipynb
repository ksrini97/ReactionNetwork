{
 "cells": [
  {
   "cell_type": "markdown",
   "id": "154c0e3a",
   "metadata": {},
   "source": [
    "Find Candiate molecule through substructure match"
   ]
  },
  {
   "cell_type": "code",
   "execution_count": 1,
   "id": "62dc7725",
   "metadata": {},
   "outputs": [],
   "source": [
    "from rdkit import Chem\n",
    "from rdkit.DataStructs import FingerprintSimilarity as tanimoto\n",
    "from rdkit.Chem import Draw\n",
    "from rdkit.Chem import AllChem,MACCSkeys\n",
    "import pandas as pd\n",
    "from ast import literal_eval\n",
    "from joblib import Parallel, delayed"
   ]
  },
  {
   "cell_type": "code",
   "execution_count": 2,
   "id": "22253ca1",
   "metadata": {},
   "outputs": [],
   "source": [
    "def Similarity(smiles,target):\n",
    "    score=0\n",
    "    try:\n",
    "        mol=Chem.MolFromSmiles(smiles)\n",
    "        for t in target:\n",
    "            \n",
    "            if  mol.HasSubstructMatch(t):\n",
    "                score+=1\n",
    "            else:\n",
    "                score=0\n",
    "    except:\n",
    "        score=0\n",
    "    return score"
   ]
  },
  {
   "cell_type": "code",
   "execution_count": 3,
   "id": "300660ad",
   "metadata": {},
   "outputs": [
    {
     "name": "stderr",
     "output_type": "stream",
     "text": [
      "C:\\Users\\ks\\AppData\\Local\\Temp\\ipykernel_7364\\3729939481.py:1: DtypeWarning: Columns (4) have mixed types. Specify dtype option on import or set low_memory=False.\n",
      "  df=pd.read_csv('FinalSmiles.csv',header=0)\n"
     ]
    },
    {
     "name": "stdout",
     "output_type": "stream",
     "text": [
      "1808254\n",
      "3616508\n"
     ]
    },
    {
     "data": {
      "text/plain": [
       "5424762"
      ]
     },
     "execution_count": 3,
     "metadata": {},
     "output_type": "execute_result"
    }
   ],
   "source": [
    "df=pd.read_csv('FinalSmiles.csv',header=0)\n",
    "molecules=df['reactants'].tolist()\n",
    "print(len(molecules))\n",
    "molecules.extend(df['products'].tolist())\n",
    "print(len(molecules))\n",
    "molecules.extend(df['spectators'].tolist())\n",
    "len(molecules)"
   ]
  },
  {
   "cell_type": "code",
   "execution_count": null,
   "id": "5056ad04",
   "metadata": {},
   "outputs": [],
   "source": [
    "#alkane=Chem.MolFromSmarts('[CX4]')\n",
    "#alkene=Chem.MolFromSmarts('[$([CX3]=[CX3])]')\n",
    "#alkyne=Chem.MolFromSmarts('[$([CX2]#[CX2])]')\n",
    "#arene=Chem.MolFromSmarts('[c]')\n",
    "#ketone=Chem.MolFromSmarts('[#6][CX3](=[O])[#6]') \n",
    "#aldehyde=Chem.MolFromSmarts('[CX3H1](=[O])')\n",
    "#ester=Chem.MolFromSmarts('[#6][CX3](=[O])[OX2H0][#6]')\n",
    "#acid=Chem.MolFromSmarts('[#6][CX3](=[O])[OX2H1]')\n",
    "#alcohol=Chem.MolFromSmarts('[CHX4][OX2H]')\n",
    "#amine=Chem.MolFromSmarts('[NX3;H2,H1;!$(NC=O)]')\n",
    "#halide=Chem.MolFromSmarts('[CX4][F,Cl,Br,I]')\n",
    "#ether=Chem.MolFromSmarts('[OD2]([#6])[#6]')\n",
    "#nitro=Chem.MolFromSmarts('[$([NX3](=O)=O),$([NX3+](=O)[O-])][!#8]')\n",
    "#alring=Chem.MolFromSmarts('[$([CX4;R])]')\n"
   ]
  },
  {
   "cell_type": "code",
   "execution_count": 5,
   "id": "c72e9d5d",
   "metadata": {},
   "outputs": [
    {
     "name": "stderr",
     "output_type": "stream",
     "text": [
      "[Parallel(n_jobs=-1)]: Using backend LokyBackend with 12 concurrent workers.\n",
      "[Parallel(n_jobs=-1)]: Done  30 tasks      | elapsed:    0.0s\n",
      "[Parallel(n_jobs=-1)]: Done 2888 tasks      | elapsed:    1.7s\n",
      "[Parallel(n_jobs=-1)]: Done 60904 tasks      | elapsed:    5.6s\n",
      "[Parallel(n_jobs=-1)]: Done 150504 tasks      | elapsed:   11.4s\n",
      "[Parallel(n_jobs=-1)]: Done 265704 tasks      | elapsed:   19.7s\n",
      "[Parallel(n_jobs=-1)]: Done 406504 tasks      | elapsed:   30.0s\n",
      "[Parallel(n_jobs=-1)]: Done 572904 tasks      | elapsed:   43.0s\n",
      "[Parallel(n_jobs=-1)]: Done 764904 tasks      | elapsed:   56.9s\n",
      "[Parallel(n_jobs=-1)]: Done 982504 tasks      | elapsed:  1.2min\n",
      "[Parallel(n_jobs=-1)]: Done 1225704 tasks      | elapsed:  1.5min\n",
      "[Parallel(n_jobs=-1)]: Done 1510080 tasks      | elapsed:  2.0min\n",
      "[Parallel(n_jobs=-1)]: Done 1970080 tasks      | elapsed:  2.4min\n",
      "[Parallel(n_jobs=-1)]: Done 2470080 tasks      | elapsed:  2.7min\n",
      "[Parallel(n_jobs=-1)]: Done 3010080 tasks      | elapsed:  3.0min\n",
      "[Parallel(n_jobs=-1)]: Done 3590080 tasks      | elapsed:  3.4min\n",
      "[Parallel(n_jobs=-1)]: Done 5424762 out of 5424762 | elapsed:  4.0min finished\n"
     ]
    }
   ],
   "source": [
    "smartslist=['[c]']\n",
    "\n",
    "targetmol=[Chem.MolFromSmarts(s) for s in smartslist]\n",
    "target=targetmol\n",
    "score=Parallel(n_jobs=-1,verbose=1)(delayed(Similarity)(smiles,target) for smiles in molecules)\n",
    "pd.DataFrame({'Molecules':molecules,'Similarity':score}).to_csv('Biomass/PC SubHits/BioPC5_Substruct_Similarity_new.csv')"
   ]
  },
  {
   "cell_type": "code",
   "execution_count": 16,
   "id": "54509139",
   "metadata": {},
   "outputs": [],
   "source": [
    "def Similarity1(smiles,target):\n",
    "    score=0\n",
    "    try:\n",
    "        mol=Chem.MolFromSmiles(smiles)\n",
    "        if  mol.HasSubstructMatch(target):\n",
    "            score=1\n",
    "        else:\n",
    "            score=0\n",
    "    except:\n",
    "        score=0\n",
    "    return score"
   ]
  },
  {
   "cell_type": "code",
   "execution_count": null,
   "id": "69fc2829",
   "metadata": {},
   "outputs": [],
   "source": []
  },
  {
   "cell_type": "code",
   "execution_count": 18,
   "id": "9d23b2f8",
   "metadata": {},
   "outputs": [
    {
     "name": "stderr",
     "output_type": "stream",
     "text": [
      "[Parallel(n_jobs=-1)]: Using backend LokyBackend with 12 concurrent workers.\n",
      "[Parallel(n_jobs=-1)]: Done  26 tasks      | elapsed:    1.5s\n",
      "[Parallel(n_jobs=-1)]: Done 1420 tasks      | elapsed:    1.7s\n",
      "[Parallel(n_jobs=-1)]: Done 101388 tasks      | elapsed:    6.1s\n",
      "[Parallel(n_jobs=-1)]: Done 280588 tasks      | elapsed:   13.9s\n",
      "[Parallel(n_jobs=-1)]: Done 510988 tasks      | elapsed:   24.2s\n",
      "[Parallel(n_jobs=-1)]: Done 792588 tasks      | elapsed:   37.4s\n",
      "[Parallel(n_jobs=-1)]: Done 1125388 tasks      | elapsed:   54.0s\n",
      "[Parallel(n_jobs=-1)]: Done 1509388 tasks      | elapsed:  1.2min\n",
      "[Parallel(n_jobs=-1)]: Done 1944588 tasks      | elapsed:  1.6min\n",
      "[Parallel(n_jobs=-1)]: Done 2430988 tasks      | elapsed:  1.9min\n",
      "[Parallel(n_jobs=-1)]: Done 2968588 tasks      | elapsed:  2.2min\n",
      "[Parallel(n_jobs=-1)]: Done 3557388 tasks      | elapsed:  2.6min\n",
      "[Parallel(n_jobs=-1)]: Done 5424762 out of 5424762 | elapsed:  3.2min finished\n"
     ]
    }
   ],
   "source": [
    "targetmol=Chem.MolFromSmarts('[c].[OD2]([#6])[#6]') \n",
    "target=targetmol\n",
    "score=Parallel(n_jobs=-1,verbose=1)(delayed(Similarity1)(smiles,target) for smiles in molecules)\n",
    "pd.DataFrame({'Molecules':molecules,'Similarity':score}).to_csv('BioPC1_Substruct_SimilarityTest.csv')\n"
   ]
  },
  {
   "cell_type": "code",
   "execution_count": null,
   "id": "9022e810",
   "metadata": {},
   "outputs": [],
   "source": []
  }
 ],
 "metadata": {
  "kernelspec": {
   "display_name": "Python 3 (ipykernel)",
   "language": "python",
   "name": "python3"
  },
  "language_info": {
   "codemirror_mode": {
    "name": "ipython",
    "version": 3
   },
   "file_extension": ".py",
   "mimetype": "text/x-python",
   "name": "python",
   "nbconvert_exporter": "python",
   "pygments_lexer": "ipython3",
   "version": "3.10.5"
  }
 },
 "nbformat": 4,
 "nbformat_minor": 5
}
