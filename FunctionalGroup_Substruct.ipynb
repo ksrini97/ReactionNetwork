{
 "cells": [
  {
   "cell_type": "markdown",
   "id": "154c0e3a",
   "metadata": {},
   "source": [
    "Find Candiate molecule through substructure match"
   ]
  },
  {
   "cell_type": "code",
   "execution_count": null,
   "id": "62dc7725",
   "metadata": {},
   "outputs": [],
   "source": [
    "from rdkit import Chem\n",
    "from rdkit.DataStructs import FingerprintSimilarity as tanimoto\n",
    "from rdkit.Chem import Draw\n",
    "from rdkit.Chem import AllChem,MACCSkeys\n",
    "import pandas as pd\n",
    "from ast import literal_eval\n",
    "from joblib import Parallel, delayed"
   ]
  },
  {
   "cell_type": "code",
   "execution_count": null,
   "id": "eac470d5",
   "metadata": {},
   "outputs": [],
   "source": [
    "class SimilaritySub():\n",
    "    def __init__(self):\n",
    "        pass\n",
    "    def Similarity(self,smiles,target):\n",
    "        # smiles : SMILES of the molecule (string)\n",
    "        # target : SMARTS pattern of query to be matched against (list)\n",
    "        score=0\n",
    "        try:\n",
    "            mol=Chem.MolFromSmiles(smiles)\n",
    "            for t in target:\n",
    "\n",
    "                if  mol.HasSubstructMatch(t):\n",
    "                    score+=1\n",
    "                else:\n",
    "                    pass\n",
    "        except:\n",
    "            pass\n",
    "        return score\n",
    "    def FP_score(self, molecules,target,path):\n",
    "        '''\n",
    "        molecules : List of molecules to compare against\n",
    "        target : target SMARTS to compared with (SMARTS list)\n",
    "        path : Path (including filename) to store list of similar molecules\n",
    "        '''\n",
    "        targetmol=[Chem.MolFromSmarts(t) for t in target]\n",
    "        score=Parallel(n_jobs=-1,verbose=1)(delayed(self.Similarity)(smiles,target) for smiles in molecules)\n",
    "        pd.DataFrame({'Molecules':molecules,'Similarity':score}).sort_values(by='Similarity', ascending=False).to_csv(path)\n",
    "        "
   ]
  },
  {
   "cell_type": "code",
   "execution_count": null,
   "id": "5056ad04",
   "metadata": {},
   "outputs": [],
   "source": [
    "#SMARTS Pattern of different functional groups \n",
    "#alkane=Chem.MolFromSmarts('[CX4]')\n",
    "#alkene=Chem.MolFromSmarts('[$([CX3]=[CX3])]')\n",
    "#alkyne=Chem.MolFromSmarts('[$([CX2]#[CX2])]')\n",
    "#arene=Chem.MolFromSmarts('[c]')\n",
    "#ketone=Chem.MolFromSmarts('[#6][CX3](=[O])[#6]') \n",
    "#aldehyde=Chem.MolFromSmarts('[CX3H1](=[O])')\n",
    "#ester=Chem.MolFromSmarts('[#6][CX3](=[O])[OX2H0][#6]')\n",
    "#acid=Chem.MolFromSmarts('[#6][CX3](=[O])[OX2H1]')\n",
    "#alcohol=Chem.MolFromSmarts('[CHX4][OX2H]')\n",
    "#amine=Chem.MolFromSmarts('[NX3;H2,H1;!$(NC=O)]')\n",
    "#halide=Chem.MolFromSmarts('[CX4][F,Cl,Br,I]')\n",
    "#ether=Chem.MolFromSmarts('[OD2]([#6])[#6]')\n",
    "#nitro=Chem.MolFromSmarts('[$([NX3](=O)=O),$([NX3+](=O)[O-])][!#8]')\n"
   ]
  },
  {
   "cell_type": "code",
   "execution_count": null,
   "id": "300660ad",
   "metadata": {},
   "outputs": [],
   "source": [
    "df=pd.read_csv('FinalSmiles.csv',header=0, low_memory = False) # File containing SMILES of molecules\n",
    "molecules=df['reactants'].tolist()\n",
    "target = ['[c]','[#6][CX3](=[O])[#6]']"
   ]
  },
  {
   "cell_type": "code",
   "execution_count": null,
   "id": "c72e9d5d",
   "metadata": {},
   "outputs": [],
   "source": [
    "obj = SimilaritySub()\n",
    "obj.FP_score(molecules,target,r'C:\\Users\\ks\\Desktop\\ReactionNetwork\\Sub_example.csv')"
   ]
  },
  {
   "cell_type": "code",
   "execution_count": null,
   "id": "9022e810",
   "metadata": {},
   "outputs": [],
   "source": []
  }
 ],
 "metadata": {
  "kernelspec": {
   "display_name": "Python 3 (ipykernel)",
   "language": "python",
   "name": "python3"
  },
  "language_info": {
   "codemirror_mode": {
    "name": "ipython",
    "version": 3
   },
   "file_extension": ".py",
   "mimetype": "text/x-python",
   "name": "python",
   "nbconvert_exporter": "python",
   "pygments_lexer": "ipython3",
   "version": "3.9.12"
  }
 },
 "nbformat": 4,
 "nbformat_minor": 5
}
